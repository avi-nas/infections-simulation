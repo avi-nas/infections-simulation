{
 "cells": [
  {
   "cell_type": "code",
   "execution_count": 6,
   "metadata": {},
   "outputs": [
    {
     "ename": "ModuleNotFoundError",
     "evalue": "No module named 'matplotlib'",
     "output_type": "error",
     "traceback": [
      "\u001b[1;31m---------------------------------------------------------------------------\u001b[0m",
      "\u001b[1;31mModuleNotFoundError\u001b[0m                       Traceback (most recent call last)",
      "\u001b[1;32mc:\\Users\\Hp\\Downloads\\Project\\Project\\show.ipynb Cell 1\u001b[0m line \u001b[0;36m2\n\u001b[0;32m      <a href='vscode-notebook-cell:/c%3A/Users/Hp/Downloads/Project/Project/show.ipynb#W0sZmlsZQ%3D%3D?line=0'>1</a>\u001b[0m \u001b[39mimport\u001b[39;00m \u001b[39mnumpy\u001b[39;00m \u001b[39mas\u001b[39;00m \u001b[39mnp\u001b[39;00m\n\u001b[1;32m----> <a href='vscode-notebook-cell:/c%3A/Users/Hp/Downloads/Project/Project/show.ipynb#W0sZmlsZQ%3D%3D?line=1'>2</a>\u001b[0m \u001b[39mimport\u001b[39;00m \u001b[39mmatplotlib\u001b[39;00m\u001b[39m.\u001b[39;00m\u001b[39mpyplot\u001b[39;00m \u001b[39mas\u001b[39;00m \u001b[39mplt\u001b[39;00m\n\u001b[0;32m      <a href='vscode-notebook-cell:/c%3A/Users/Hp/Downloads/Project/Project/show.ipynb#W0sZmlsZQ%3D%3D?line=2'>3</a>\u001b[0m \u001b[39mfrom\u001b[39;00m \u001b[39mipywidgets\u001b[39;00m \u001b[39mimport\u001b[39;00m interact, IntSlider\n\u001b[0;32m      <a href='vscode-notebook-cell:/c%3A/Users/Hp/Downloads/Project/Project/show.ipynb#W0sZmlsZQ%3D%3D?line=4'>5</a>\u001b[0m \u001b[39m# File path to your data file\u001b[39;00m\n",
      "\u001b[1;31mModuleNotFoundError\u001b[0m: No module named 'matplotlib'"
     ]
    }
   ],
   "source": [
    "import numpy as np\n",
    "import matplotlib.pyplot as plt\n",
    "from ipywidgets import interact, IntSlider\n",
    "# File path to your data file\n",
    "\n",
    "file_path = 'simulation_output.csv'  # Update this with your file path\n",
    "\n",
    "# Function to update the plot dynamically\n",
    "def update_plot(line_index):\n",
    "    # Adjusting line index to account for the header\n",
    "    adjusted_line_index = line_index + 1\n",
    "\n",
    "    # Validate the line index\n",
    "    if adjusted_line_index < 1 or adjusted_line_index >= len(data):\n",
    "        print(\"Invalid line index\")\n",
    "        return\n",
    "\n",
    "    line = data[adjusted_line_index]\n",
    "\n",
    "    # Convert the line to integers, skipping the first value (time step)\n",
    "    try:\n",
    "        line_data = list(map(int, line.strip().split(',')[1:]))\n",
    "    except ValueError as e:\n",
    "        print(f\"Skipping line {adjusted_line_index}: {e}\")\n",
    "        return\n",
    "\n",
    "    # Create figure and axis objects\n",
    "    fig, ax = plt.subplots()\n",
    "    ax.bar(np.arange(4), line_data)\n",
    "    ax.set_xlabel('Categories')\n",
    "    ax.set_ylabel('Values')\n",
    "    ax.set_title(f'Chart for Time Step {line_index}')\n",
    "    ax.set_xticks(np.arange(4))\n",
    "    ax.set_xticklabels(['Susceptible', 'Infected', 'Recovered', 'Vaccinated'])\n",
    "    ax.set_ylim(0, max(line_data) * 1.1)  # Adjust the y-axis limit dynamically\n",
    "    \n",
    "    plt.show()\n",
    "\n",
    "# Read the data from the file\n",
    "with open(file_path, 'r') as file:\n",
    "    data = file.readlines()\n",
    "\n",
    "# Adjust the slider range to account for the header line\n",
    "line_slider = IntSlider(min=0, max=len(data) - 2, step=1, value=0, description='Time Step')\n",
    "interact(update_plot, line_index=line_slider)\n"
   ]
  },
  {
   "cell_type": "code",
   "execution_count": null,
   "metadata": {},
   "outputs": [
    {
     "ename": "",
     "evalue": "",
     "output_type": "error",
     "traceback": [
      "\u001b[1;31mRunning cells with 'c:\\Python311\\python.exe' requires the ipykernel package.\n",
      "\u001b[1;31mRun the following command to install 'ipykernel' into the Python environment. \n",
      "\u001b[1;31mCommand: 'c:/Python311/python.exe -m pip install ipykernel -U --user --force-reinstall'"
     ]
    }
   ],
   "source": []
  }
 ],
 "metadata": {
  "kernelspec": {
   "display_name": "Python 3",
   "language": "python",
   "name": "python3"
  },
  "language_info": {
   "codemirror_mode": {
    "name": "ipython",
    "version": 3
   },
   "file_extension": ".py",
   "mimetype": "text/x-python",
   "name": "python",
   "nbconvert_exporter": "python",
   "pygments_lexer": "ipython3",
   "version": "3.11.4"
  }
 },
 "nbformat": 4,
 "nbformat_minor": 2
}
